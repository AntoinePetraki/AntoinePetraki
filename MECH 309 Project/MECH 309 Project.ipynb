{
 "cells": [
  {
   "cell_type": "code",
   "execution_count": 5,
   "metadata": {},
   "outputs": [],
   "source": [
    "import matplotlib.pyplot as plt\n",
    "import numpy as np"
   ]
  },
  {
   "cell_type": "code",
   "execution_count": 6,
   "metadata": {},
   "outputs": [],
   "source": [
    "# [r1,r2] = 1.875, 4.694\n",
    "# def phi1(x):\n",
    "#     res = np.sin(r1*x) + np.sinh(r1*x) + ((np.cos(r1) + np.cosh(r1))/(np.sin(r1) + np.sinh(r1)))*(np.cos(r1*x) - np.cosh(r1*x))\n",
    "#     return res\n",
    "\n",
    "# x = np.linspace(0,1,1000)\n",
    "# [ax,bx] = 0, 1\n",
    "\n",
    "# # Perform the Integral\n",
    "\n",
    "# for i in x:\n",
    "#     [as1,bs2] = i,1\n",
    "#     nx = 1000\n",
    "#     ns = 1000\n",
    "#     hx = (bx-ax)/nx\n",
    "#     hs = (bs2-as1)/ns\n",
    "#     sum = 0\n",
    "#     s = np.linspace(i,1,ns)\n",
    "#     for j in range(nx + 1): # loop outer integral\n",
    "#         if j == 0 or j == nx:\n",
    "#             p = 1\n",
    "#         elif j%2 != 0:\n",
    "#             p = 4\n",
    "#         else :\n",
    "#             p = 2\n",
    "#         for k in range(ns + 1):\n",
    "#             if k == 0 or k == ns:\n",
    "#                 q = 1\n",
    "#             elif k%2 != 0:\n",
    "#                 q = 4\n",
    "#             else :\n",
    "#                 q = 2\n",
    "            \n",
    "\n",
    "\n",
    "\n"
   ]
  },
  {
   "cell_type": "code",
   "execution_count": 7,
   "metadata": {},
   "outputs": [
    {
     "ename": "TypeError",
     "evalue": "'int' object is not callable",
     "output_type": "error",
     "traceback": [
      "\u001b[1;31m---------------------------------------------------------------------------\u001b[0m",
      "\u001b[1;31mTypeError\u001b[0m                                 Traceback (most recent call last)",
      "\u001b[1;32m<ipython-input-7-04357c7c3a32>\u001b[0m in \u001b[0;36m<module>\u001b[1;34m\u001b[0m\n\u001b[0;32m     42\u001b[0m \u001b[1;33m\u001b[0m\u001b[0m\n\u001b[0;32m     43\u001b[0m \u001b[1;33m\u001b[0m\u001b[0m\n\u001b[1;32m---> 44\u001b[1;33m \u001b[0my\u001b[0m \u001b[1;33m=\u001b[0m \u001b[0msimp\u001b[0m\u001b[1;33m(\u001b[0m\u001b[0mf\u001b[0m\u001b[1;33m,\u001b[0m\u001b[1;36m0\u001b[0m\u001b[1;33m,\u001b[0m\u001b[1;36m1\u001b[0m\u001b[1;33m,\u001b[0m\u001b[1;36m1\u001b[0m\u001b[1;33m,\u001b[0m\u001b[0mc\u001b[0m\u001b[1;33m,\u001b[0m\u001b[1;36m5\u001b[0m\u001b[1;33m,\u001b[0m\u001b[1;36m5\u001b[0m\u001b[1;33m)\u001b[0m\u001b[1;33m\u001b[0m\u001b[1;33m\u001b[0m\u001b[0m\n\u001b[0m\u001b[0;32m     45\u001b[0m \u001b[1;33m\u001b[0m\u001b[0m\n\u001b[0;32m     46\u001b[0m \u001b[1;33m\u001b[0m\u001b[0m\n",
      "\u001b[1;32m<ipython-input-7-04357c7c3a32>\u001b[0m in \u001b[0;36msimp\u001b[1;34m(func, a, b, d, c, n, m)\u001b[0m\n\u001b[0;32m     21\u001b[0m     \u001b[1;32mfor\u001b[0m \u001b[0mi\u001b[0m \u001b[1;32min\u001b[0m \u001b[0mrange\u001b[0m\u001b[1;33m(\u001b[0m\u001b[0mn\u001b[0m \u001b[1;33m+\u001b[0m \u001b[1;36m1\u001b[0m\u001b[1;33m)\u001b[0m\u001b[1;33m:\u001b[0m\u001b[1;33m\u001b[0m\u001b[1;33m\u001b[0m\u001b[0m\n\u001b[0;32m     22\u001b[0m         \u001b[0mx\u001b[0m \u001b[1;33m=\u001b[0m \u001b[0ma\u001b[0m \u001b[1;33m+\u001b[0m \u001b[0mi\u001b[0m\u001b[1;33m*\u001b[0m\u001b[0mh\u001b[0m\u001b[1;33m\u001b[0m\u001b[1;33m\u001b[0m\u001b[0m\n\u001b[1;32m---> 23\u001b[1;33m         \u001b[0mHX\u001b[0m \u001b[1;33m=\u001b[0m \u001b[1;33m(\u001b[0m\u001b[0md\u001b[0m\u001b[1;33m(\u001b[0m\u001b[0mx\u001b[0m\u001b[1;33m)\u001b[0m \u001b[1;33m-\u001b[0m \u001b[0mc\u001b[0m\u001b[1;33m(\u001b[0m\u001b[0mx\u001b[0m\u001b[1;33m)\u001b[0m\u001b[1;33m)\u001b[0m\u001b[1;33m/\u001b[0m\u001b[0mm\u001b[0m\u001b[1;33m\u001b[0m\u001b[1;33m\u001b[0m\u001b[0m\n\u001b[0m\u001b[0;32m     24\u001b[0m         \u001b[0mK1\u001b[0m \u001b[1;33m=\u001b[0m \u001b[0mfunc\u001b[0m\u001b[1;33m(\u001b[0m\u001b[0mx\u001b[0m\u001b[1;33m,\u001b[0m\u001b[0mc\u001b[0m\u001b[1;33m(\u001b[0m\u001b[0mx\u001b[0m\u001b[1;33m)\u001b[0m\u001b[1;33m,\u001b[0m\u001b[0mq\u001b[0m\u001b[1;33m)\u001b[0m \u001b[1;33m+\u001b[0m \u001b[0mfunc\u001b[0m\u001b[1;33m(\u001b[0m\u001b[0mx\u001b[0m\u001b[1;33m,\u001b[0m \u001b[0md\u001b[0m\u001b[1;33m(\u001b[0m\u001b[0mx\u001b[0m\u001b[1;33m)\u001b[0m\u001b[1;33m,\u001b[0m\u001b[0mq\u001b[0m\u001b[1;33m)\u001b[0m\u001b[1;33m\u001b[0m\u001b[1;33m\u001b[0m\u001b[0m\n\u001b[0;32m     25\u001b[0m         \u001b[1;33m[\u001b[0m\u001b[0mK2\u001b[0m\u001b[1;33m,\u001b[0m\u001b[0mK3\u001b[0m\u001b[1;33m]\u001b[0m \u001b[1;33m=\u001b[0m \u001b[1;36m0\u001b[0m\u001b[1;33m,\u001b[0m\u001b[1;36m0\u001b[0m\u001b[1;33m\u001b[0m\u001b[1;33m\u001b[0m\u001b[0m\n",
      "\u001b[1;31mTypeError\u001b[0m: 'int' object is not callable"
     ]
    }
   ],
   "source": [
    "# qs = np.linspace(-5,5,1000)\n",
    "# [r1,r2] = 1.875, 4.694\n",
    "\n",
    "# def phi1(x):\n",
    "#     res = np.sin(r1*x) + np.sinh(r1*x) + ((np.cos(r1) + np.cosh(r1))/(np.sin(r1) + np.sinh(r1)))*(np.cos(r1*x) - np.cosh(r1*x))\n",
    "#     return res\n",
    "\n",
    "# def psi(x,q):\n",
    "#     return phi1(x)*q\n",
    "\n",
    "# def f(x,s,q):\n",
    "#     return psi(x,q)*np.cos(psi(x,q)-psi(s,q))\n",
    "\n",
    "# def c(x):\n",
    "#     return x\n",
    "\n",
    "# def simp (func,a,b,d,c,n,m):\n",
    "\n",
    "#     h = (b-a)/n\n",
    "#     [J1,J2,J3] = 0,0,0\n",
    "#     for i in range(n + 1):\n",
    "#         x = a + i*h\n",
    "#         HX = (d - c(x))/m\n",
    "#         K1 = func(x,c(x),q) + func(x, d(x),q)\n",
    "#         [K2,K3] = 0,0\n",
    "#         for j in range(1,m):\n",
    "#             y = c(x) + j*HX\n",
    "#             Q = func(x,y,q)\n",
    "#             if j%2 == 0:\n",
    "#                 K2 += Q\n",
    "#             else:\n",
    "#                 K3 += Q\n",
    "#         L = (K1 + 2*K2 + 4*K3)*HX/3\n",
    "#         if i == 0 or i == n:\n",
    "#             J1 += L\n",
    "#         elif i%2 == 0:\n",
    "#             J2 += L\n",
    "#         else:\n",
    "#             J3 += L\n",
    "#     J = h(J1 + 2*J2 + 4*J3)/3\n",
    "#     return J\n",
    "\n",
    "\n",
    "# y = simp(f,0,1,1,c,5,5)\n",
    "\n",
    "\n"
   ]
  },
  {
   "cell_type": "code",
   "execution_count": null,
   "metadata": {},
   "outputs": [],
   "source": [
    "def SecantMethod(func,r0,r1,eps,index):\n",
    "    r = r1 - func(index,r1)*(r1-r0)/(func(index,r1) - func(index,r0))\n",
    "    while abs(r-r1) >= eps:\n",
    "        r0 = r1\n",
    "        r1 = r\n",
    "        r = r1 - func(index,r1)*(r1-r0)/(func(index,r1) - func(index,r0))\n",
    "    return r"
   ]
  }
 ],
 "metadata": {
  "interpreter": {
   "hash": "9202263c2c665591164dd0841b4252b2c03256a5b7a80c05561aedc0e9559720"
  },
  "kernelspec": {
   "display_name": "Python 3.8.5 64-bit",
   "language": "python",
   "name": "python3"
  },
  "language_info": {
   "codemirror_mode": {
    "name": "ipython",
    "version": 3
   },
   "file_extension": ".py",
   "mimetype": "text/x-python",
   "name": "python",
   "nbconvert_exporter": "python",
   "pygments_lexer": "ipython3",
   "version": "3.8.5"
  },
  "orig_nbformat": 4
 },
 "nbformat": 4,
 "nbformat_minor": 2
}
